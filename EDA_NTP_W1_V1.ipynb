{
 "cells": [
  {
   "cell_type": "code",
   "execution_count": 4,
   "id": "9f64652e",
   "metadata": {},
   "outputs": [],
   "source": [
    "import numpy as np                  "
   ]
  },
  {
   "cell_type": "code",
   "execution_count": null,
   "id": "afe0364e",
   "metadata": {},
   "outputs": [],
   "source": [
    "# ZC - PCT"
   ]
  },
  {
   "cell_type": "code",
   "execution_count": null,
   "id": "49d669b9",
   "metadata": {},
   "outputs": [],
   "source": []
  },
  {
   "cell_type": "markdown",
   "id": "562566c4",
   "metadata": {},
   "source": [
    "# Creating array of even integers from 30 to 70"
   ]
  },
  {
   "cell_type": "code",
   "execution_count": 5,
   "id": "e6c49181",
   "metadata": {},
   "outputs": [
    {
     "name": "stdout",
     "output_type": "stream",
     "text": [
      "Array of even integers from 30 to 70: [30 32 34 36 38 40 42 44 46 48 50 52 54 56 58 60 62 64 66 68 70]\n"
     ]
    }
   ],
   "source": [
    "# Create an array of even integers from 30 to 70\n",
    "even_numbers = np.arange(30, 71, 2)\n",
    "\n",
    "# np.arange(30, 71, 2) creates an array starting from 30, up to (but not including) 71, with a step size of 2. \n",
    "# This results in an array containing all even integers between 30 and 70.\n",
    "\n",
    "# Print the array\n",
    "print(\"Array of even integers from 30 to 70:\", even_numbers)\n"
   ]
  },
  {
   "cell_type": "code",
   "execution_count": null,
   "id": "e81f6801",
   "metadata": {},
   "outputs": [],
   "source": []
  },
  {
   "cell_type": "markdown",
   "id": "bfab4ff0",
   "metadata": {},
   "source": [
    "# Generating an array of 15 random numbers (standard normal distribution)"
   ]
  },
  {
   "cell_type": "code",
   "execution_count": 6,
   "id": "a5be49d6",
   "metadata": {},
   "outputs": [
    {
     "name": "stdout",
     "output_type": "stream",
     "text": [
      "Array of 15 random numbers from a standard normal distribution: [ 1.2509873  -2.30968847 -0.02187199 -0.06050511  0.83974982 -0.37732744\n",
      " -1.05755145  0.48295545 -0.40307101  1.53506208 -1.12676935  1.86980256\n",
      " -0.37545011 -1.42522858  0.0872171 ]\n"
     ]
    }
   ],
   "source": [
    "# Generate an array of 15 random numbers from a standard normal distribution\n",
    "random_numbers = np.random.randn(15)\n",
    "\n",
    "# np.random.randn(15) generates an array of 15 random numbers from a standard normal distribution.\n",
    "\n",
    "# Print the array\n",
    "print(\"Array of 15 random numbers from a standard normal distribution:\", random_numbers)\n"
   ]
  },
  {
   "cell_type": "code",
   "execution_count": null,
   "id": "ca67f69b",
   "metadata": {},
   "outputs": [],
   "source": []
  },
  {
   "cell_type": "markdown",
   "id": "18551818",
   "metadata": {},
   "source": [
    "# Cross-product of two matrices"
   ]
  },
  {
   "cell_type": "code",
   "execution_count": 7,
   "id": "00cf5b54",
   "metadata": {},
   "outputs": [
    {
     "name": "stdout",
     "output_type": "stream",
     "text": [
      "Cross-product of the two matrices:\n",
      "[[-10  20 -10]\n",
      " [-10  20 -10]\n",
      " [-10  20 -10]]\n"
     ]
    }
   ],
   "source": [
    "# Create two matrices (2D arrays)\n",
    "matrix1 = np.array([[1, 2, 3],\n",
    "                    [4, 5, 6],\n",
    "                    [7, 8, 9]])\n",
    "\n",
    "matrix2 = np.array([[9, 8, 7],\n",
    "                    [6, 5, 4],\n",
    "                    [3, 2, 1]])\n",
    "\n",
    "# Compute the cross-product\n",
    "cross_product = np.cross(matrix1, matrix2)\n",
    "\n",
    "# Print the result\n",
    "print(\"Cross-product of the two matrices:\")\n",
    "print(cross_product)\n",
    "\n",
    "# In NumPy, you can compute the cross-product of two matrices using the np.cross() function. \n",
    "# The np.cross() function calculates the cross-product of two arrays along a specified axis.\n",
    "# If the input arrays are 2-D, it computes the cross-product of corresponding rows.\n"
   ]
  },
  {
   "cell_type": "code",
   "execution_count": null,
   "id": "9f5e0249",
   "metadata": {},
   "outputs": [],
   "source": []
  },
  {
   "cell_type": "markdown",
   "id": "e39e7f7a",
   "metadata": {},
   "source": [
    "## Element-wise product of two matrices"
   ]
  },
  {
   "cell_type": "code",
   "execution_count": 8,
   "id": "73b3a1a4",
   "metadata": {},
   "outputs": [
    {
     "name": "stdout",
     "output_type": "stream",
     "text": [
      "Element-wise cross-product of the two matrices:\n",
      "[[ 9 16 21]\n",
      " [24 25 24]\n",
      " [21 16  9]]\n"
     ]
    }
   ],
   "source": [
    "# You can use the * operator for element-wise multiplication, \n",
    "# but keep in mind that the * operator in NumPy performs element-wise multiplication, \n",
    "# not the cross product in the traditional sense.\n",
    "\n",
    "# Create two matrices (2D arrays)\n",
    "matrix1 = np.array([[1, 2, 3],\n",
    "                    [4, 5, 6],\n",
    "                    [7, 8, 9]])\n",
    "\n",
    "matrix2 = np.array([[9, 8, 7],\n",
    "                    [6, 5, 4],\n",
    "                    [3, 2, 1]])\n",
    "\n",
    "# Compute the element-wise cross-product using the * operator\n",
    "elementwise_cross_product = matrix1 * matrix2#\n",
    "\n",
    "# Print the result\n",
    "print(\"Element-wise cross-product of the two matrices:\")\n",
    "print(elementwise_cross_product)\n",
    "\n",
    "\n",
    "# In this example, matrix1 * matrix2 performs element-wise multiplication. \n",
    "# This is not the same as the cross product, but it's a common operation when \n",
    "# people refer to an \"element-wise cross-product\" for matrices.\n",
    "\n",
    "# If you specifically need the traditional cross product (not element-wise), \n",
    "# you should use np.cross() as shown in the previous example."
   ]
  },
  {
   "cell_type": "code",
   "execution_count": null,
   "id": "eaf085b8",
   "metadata": {},
   "outputs": [],
   "source": []
  },
  {
   "cell_type": "markdown",
   "id": "3cacb7a9",
   "metadata": {},
   "source": [
    "# Computing the determinant of an array"
   ]
  },
  {
   "cell_type": "code",
   "execution_count": 9,
   "id": "d2c7fedb",
   "metadata": {},
   "outputs": [
    {
     "name": "stdout",
     "output_type": "stream",
     "text": [
      "Determinant of the matrix:\n",
      "10.000000000000002\n"
     ]
    }
   ],
   "source": [
    "# In NumPy, you can compute the determinant of a square matrix using the numpy.linalg.det() function\n",
    "\n",
    "\n",
    "# Create a square matrix\n",
    "matrix = np.array([[4, 7],\n",
    "                   [2, 6]])\n",
    "\n",
    "# Compute the determinant\n",
    "determinant_value = np.linalg.det(matrix)\n",
    "\n",
    "# Print the determinant\n",
    "print(\"Determinant of the matrix:\")\n",
    "print(determinant_value)\n",
    "\n",
    "\n",
    "# matrix is a 2x2 square matrix, and np.linalg.det(matrix) calculates its determinant.\n",
    "# The input matrix must be a square matrix (number of rows equals the number of columns) for \n",
    "# the determinant to be defined. \n",
    "# If the matrix is not square, the function will raise a LinAlgError.\n"
   ]
  },
  {
   "cell_type": "markdown",
   "id": "cbd4ddc3",
   "metadata": {},
   "source": [
    "##  Determinant of different sized square matrices"
   ]
  },
  {
   "cell_type": "code",
   "execution_count": 10,
   "id": "6dc476a7",
   "metadata": {},
   "outputs": [
    {
     "name": "stdout",
     "output_type": "stream",
     "text": [
      "Determinant of 3x3 array:\n",
      "-9.51619735392994e-16\n",
      "Determinant of 4x4 array:\n",
      "-1.820448242817726e-31\n"
     ]
    }
   ],
   "source": [
    "# Deinfining some square arrays\n",
    "array_3x3 = np.array([[1, 2, 3], [4, 5, 6], [7, 8, 9]])\n",
    "array_4x4 = np.array([[1, 2, 3, 4], [5, 6, 7, 8], [9, 10, 11, 12], [13, 14, 15, 16]])\n",
    "\n",
    "# Compute determinants\n",
    "det_3x3 = np.linalg.det(array_3x3)\n",
    "det_4x4 = np.linalg.det(array_4x4)\n",
    "\n",
    "# Display results\n",
    "print(f\"Determinant of 3x3 array:\\n{det_3x3}\")\n",
    "print(f\"Determinant of 4x4 array:\\n{det_4x4}\")\n"
   ]
  },
  {
   "cell_type": "code",
   "execution_count": null,
   "id": "fbd45981",
   "metadata": {},
   "outputs": [],
   "source": []
  },
  {
   "cell_type": "markdown",
   "id": "15b2fab0",
   "metadata": {},
   "source": [
    "# Creating a 3x3x3 array with random values (uniform distribution 0-1)"
   ]
  },
  {
   "cell_type": "code",
   "execution_count": 11,
   "id": "8ac28a1b",
   "metadata": {},
   "outputs": [
    {
     "name": "stdout",
     "output_type": "stream",
     "text": [
      "3x3x3 Array with Random Values:\n",
      "[[[0.90957894 0.199463   0.52758389]\n",
      "  [0.54220517 0.38895335 0.11838558]\n",
      "  [0.86990654 0.49825611 0.11441816]]\n",
      "\n",
      " [[0.10129979 0.58357634 0.32852561]\n",
      "  [0.76898153 0.32364687 0.03175303]\n",
      "  [0.92552969 0.14401398 0.95073715]]\n",
      "\n",
      " [[0.23849809 0.92879013 0.19363852]\n",
      "  [0.57127897 0.50682192 0.9284751 ]\n",
      "  [0.77099543 0.0802393  0.05712819]]]\n"
     ]
    }
   ],
   "source": [
    "# You can create a 3x3x3 array with random values in NumPy using the numpy.random.rand function, \n",
    "# which generates random values from a uniform distribution between 0 and 1. \n",
    "\n",
    "\n",
    "# Create a 3x3x3 array with random values\n",
    "random_3_array = np.random.rand(3, 3, 3)\n",
    "\n",
    "# Print the array\n",
    "print(\"3x3x3 Array with Random Values:\")\n",
    "print(random_3_array)\n"
   ]
  },
  {
   "cell_type": "code",
   "execution_count": null,
   "id": "872f6c84",
   "metadata": {},
   "outputs": [],
   "source": []
  },
  {
   "cell_type": "markdown",
   "id": "f716fab6",
   "metadata": {},
   "source": [
    "## Creating a 3x3x3 array of random values (standard normal distribution)"
   ]
  },
  {
   "cell_type": "code",
   "execution_count": 12,
   "id": "5c145237",
   "metadata": {},
   "outputs": [
    {
     "name": "stdout",
     "output_type": "stream",
     "text": [
      "3x3x3 Array with Random Values (Standard Normal Distribution):\n",
      "[[[-0.45574831 -1.85705837  0.35911362]\n",
      "  [ 0.25199552 -1.24443469  0.07654536]\n",
      "  [ 0.08363315 -0.44097306  1.9477491 ]]\n",
      "\n",
      " [[-0.32447859  1.28025047  0.18519213]\n",
      "  [ 0.17125735 -0.32961591  0.53846073]\n",
      "  [ 0.57099707 -0.63920028 -0.23886121]]\n",
      "\n",
      " [[-0.47527997 -0.327629    1.02245541]\n",
      "  [ 0.63577097  0.87184879  0.33348397]\n",
      "  [-0.43455222 -0.68201204  0.02808309]]]\n"
     ]
    }
   ],
   "source": [
    "# If you want random values from a different distribution, you can use other functions from the numpy.random module. \n",
    "# For example, numpy.random.randn generates random values from a standard normal distribution:\n",
    "\n",
    "\n",
    "# Create a 3x3x3 array with random values from a standard normal distribution\n",
    "random_array_normal = np.random.randn(3, 3, 3)\n",
    "\n",
    "# Print the array\n",
    "print(\"3x3x3 Array with Random Values (Standard Normal Distribution):\")\n",
    "print(random_array_normal)\n",
    "\n"
   ]
  },
  {
   "cell_type": "code",
   "execution_count": null,
   "id": "ecd71fb3",
   "metadata": {},
   "outputs": [],
   "source": []
  },
  {
   "cell_type": "markdown",
   "id": "c0f714e4",
   "metadata": {},
   "source": [
    "# Creating a 5x5 array and finding min. and max. values"
   ]
  },
  {
   "cell_type": "code",
   "execution_count": 13,
   "id": "cc0925b7",
   "metadata": {},
   "outputs": [
    {
     "name": "stdout",
     "output_type": "stream",
     "text": [
      "5x5 Array with Random Values:\n",
      "[[0.04702647 0.88970897 0.70912698 0.10693256 0.82015244]\n",
      " [0.79142396 0.22570596 0.36002554 0.60911244 0.36498738]\n",
      " [0.03622169 0.65886303 0.13321998 0.74585385 0.59689376]\n",
      " [0.05766458 0.73755818 0.58531944 0.72579311 0.59967098]\n",
      " [0.70029689 0.47657903 0.88246342 0.57400367 0.29313915]]\n",
      "Minimum Value: 0.03622169342161563\n",
      "Maximum Value: 0.8897089721124494\n"
     ]
    }
   ],
   "source": [
    "# You can create a 5x5 array with random values and find the minimum and maximum values using NumPy's functions\n",
    "\n",
    "\n",
    "# Create a 5x5 array with random values\n",
    "random_5_array = np.random.rand(5, 5)\n",
    "\n",
    "# Print the array\n",
    "print(\"5x5 Array with Random Values:\")\n",
    "print(random_5_array)\n",
    "\n",
    "# Find the minimum and maximum values\n",
    "min_value = np.min(random_5_array)\n",
    "max_value = np.max(random_5_array)\n",
    "\n",
    "# Print the minimum and maximum values\n",
    "print(\"Minimum Value:\", min_value)\n",
    "print(\"Maximum Value:\", max_value)\n",
    "\n",
    "\n",
    "# np.random.rand(5, 5) generates a 5x5 array with random values from a uniform distribution in the range [0, 1).\n",
    "# np.min(random_array) finds the minimum value in the array.\n",
    "# np.max(random_array) finds the maximum value in the array.\n"
   ]
  },
  {
   "cell_type": "code",
   "execution_count": null,
   "id": "eb093965",
   "metadata": {},
   "outputs": [],
   "source": []
  },
  {
   "cell_type": "markdown",
   "id": "ca518ed8",
   "metadata": {},
   "source": [
    "# Computing mean, std dvtn & var. along second axis of an array"
   ]
  },
  {
   "cell_type": "code",
   "execution_count": 14,
   "id": "e0c1f839",
   "metadata": {},
   "outputs": [
    {
     "name": "stdout",
     "output_type": "stream",
     "text": [
      "Original Array:\n",
      "[[ 1  2  3  4]\n",
      " [ 5  6  7  8]\n",
      " [ 9 10 11 12]]\n",
      "\n",
      "Mean along the second axis:\n",
      "[ 2.5  6.5 10.5]\n",
      "\n",
      "Standard Deviation along the second axis:\n",
      "[1.11803399 1.11803399 1.11803399]\n",
      "\n",
      "Variance along the second axis:\n",
      "[1.25 1.25 1.25]\n"
     ]
    }
   ],
   "source": [
    "# In NumPy, you can compute the mean, standard deviation, and variance along a specific axis of an array \n",
    "# using the functions numpy.mean(), numpy.std(), and numpy.var(). Here's an example of calculating these \n",
    "# statistics along the second axis (axis=1):\n",
    "# The axis=1 argument is used to perform the calculations along the second axis.\n",
    "# axis=0: Operations along the vertical axis (down the rows).\n",
    "# axis=1: Operations along the horizontal axis (across the columns).\n",
    "# Adjust the axis parameter based on your data structure and the axis along which you want to compute these statistics.\n",
    "\n",
    "\n",
    "\n",
    "# Create a sample 3x4 array\n",
    "data_array = np.array([[1, 2, 3, 4],\n",
    "                       [5, 6, 7, 8],\n",
    "                       [9, 10, 11, 12]])\n",
    "\n",
    "# Compute mean along the second axis (axis=1)\n",
    "mean_values = np.mean(data_array, axis=1)\n",
    "\n",
    "# Compute standard deviation along the second axis (axis=1)\n",
    "std_deviation_values = np.std(data_array, axis=1)\n",
    "\n",
    "# Compute variance along the second axis (axis=1)\n",
    "variance_values = np.var(data_array, axis=1)\n",
    "\n",
    "# Print the results\n",
    "print(\"Original Array:\")\n",
    "print(data_array)\n",
    "\n",
    "print(\"\\nMean along the second axis:\")\n",
    "print(mean_values)\n",
    "\n",
    "print(\"\\nStandard Deviation along the second axis:\")\n",
    "print(std_deviation_values)\n",
    "\n",
    "print(\"\\nVariance along the second axis:\")\n",
    "print(variance_values)\n",
    "\n"
   ]
  },
  {
   "cell_type": "code",
   "execution_count": null,
   "id": "06bdaf88",
   "metadata": {},
   "outputs": [],
   "source": []
  },
  {
   "cell_type": "code",
   "execution_count": null,
   "id": "cf944c58",
   "metadata": {},
   "outputs": [],
   "source": []
  },
  {
   "cell_type": "code",
   "execution_count": null,
   "id": "8563ced8",
   "metadata": {},
   "outputs": [],
   "source": []
  }
 ],
 "metadata": {
  "kernelspec": {
   "display_name": "Python 3 (ipykernel)",
   "language": "python",
   "name": "python3"
  },
  "language_info": {
   "codemirror_mode": {
    "name": "ipython",
    "version": 3
   },
   "file_extension": ".py",
   "mimetype": "text/x-python",
   "name": "python",
   "nbconvert_exporter": "python",
   "pygments_lexer": "ipython3",
   "version": "3.9.7"
  }
 },
 "nbformat": 4,
 "nbformat_minor": 5
}
